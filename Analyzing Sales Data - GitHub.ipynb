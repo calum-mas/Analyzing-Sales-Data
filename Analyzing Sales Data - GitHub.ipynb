{
 "cells": [
  {
   "cell_type": "code",
   "execution_count": 1,
   "metadata": {},
   "outputs": [],
   "source": [
    "import pandas as pd\n",
    "import numpy as np\n",
    "import os\n",
    "\n",
    "import matplotlib.pyplot as plt"
   ]
  },
  {
   "cell_type": "markdown",
   "metadata": {},
   "source": [
    "### Data Preparation"
   ]
  },
  {
   "cell_type": "code",
   "execution_count": 2,
   "metadata": {},
   "outputs": [],
   "source": [
    "# Read all files \n",
    "\n",
    "files = [file for file in os.listdir('./SalesAnalysis/Sales_Data')]\n",
    "\n",
    "# Put dataframes of files into a list\n",
    "frames = []\n",
    "\n",
    "for file in files:\n",
    "    frames.append(pd.read_csv(\"SalesAnalysis/Sales_Data/\" + file))"
   ]
  },
  {
   "cell_type": "code",
   "execution_count": 3,
   "metadata": {},
   "outputs": [],
   "source": [
    "# Concatenate dataframe list into a single dataframe\n",
    "\n",
    "all_months = pd.concat(frames, keys = files)"
   ]
  },
  {
   "cell_type": "code",
   "execution_count": 4,
   "metadata": {},
   "outputs": [
    {
     "data": {
      "text/plain": [
       "Index(['Sales_April_2019.csv', 'Sales_August_2019.csv',\n",
       "       'Sales_December_2019.csv', 'Sales_February_2019.csv',\n",
       "       'Sales_January_2019.csv', 'Sales_July_2019.csv', 'Sales_June_2019.csv',\n",
       "       'Sales_March_2019.csv', 'Sales_May_2019.csv', 'Sales_November_2019.csv',\n",
       "       'Sales_October_2019.csv', 'Sales_September_2019.csv'],\n",
       "      dtype='object')"
      ]
     },
     "execution_count": 4,
     "metadata": {},
     "output_type": "execute_result"
    }
   ],
   "source": [
    "# Check that all files were imported\n",
    "\n",
    "all_months.index.get_level_values(0).unique()"
   ]
  },
  {
   "cell_type": "code",
   "execution_count": 5,
   "metadata": {},
   "outputs": [],
   "source": [
    "# Promote file keys to their own column so that they don't get mixed up with index\n",
    "\n",
    "all_months.reset_index(level=0, inplace=True)"
   ]
  },
  {
   "cell_type": "code",
   "execution_count": 6,
   "metadata": {},
   "outputs": [],
   "source": [
    "# Remove rows which contain column names of concatenated dataframes\n",
    "\n",
    "all_months = all_months[~((all_months['Order ID'] == 'Order ID') & (all_months['Product'] == 'Product'))]\n",
    "\n",
    "# Remove rows that don't contain a number\n",
    "\n",
    "all_months = all_months.dropna(axis = 0, subset = ['Order ID'])\n"
   ]
  },
  {
   "cell_type": "markdown",
   "metadata": {},
   "source": [
    "### Q1 What was the best month for sales?"
   ]
  },
  {
   "cell_type": "markdown",
   "metadata": {},
   "source": [
    "Ans.  The analysis below shows that December was the best month for sales in 2019. "
   ]
  },
  {
   "cell_type": "code",
   "execution_count": 7,
   "metadata": {},
   "outputs": [],
   "source": [
    "# Calculate sales \n",
    "\n",
    "all_months['Quantity Ordered'] = pd.to_numeric(all_months['Quantity Ordered'])\n",
    "all_months['Price Each'] = pd.to_numeric(all_months['Price Each'])\n",
    "\n",
    "all_months['Sales'] = all_months['Quantity Ordered'] * all_months['Price Each']"
   ]
  },
  {
   "cell_type": "code",
   "execution_count": 8,
   "metadata": {},
   "outputs": [
    {
     "data": {
      "text/html": [
       "<div>\n",
       "<style scoped>\n",
       "    .dataframe tbody tr th:only-of-type {\n",
       "        vertical-align: middle;\n",
       "    }\n",
       "\n",
       "    .dataframe tbody tr th {\n",
       "        vertical-align: top;\n",
       "    }\n",
       "\n",
       "    .dataframe thead th {\n",
       "        text-align: right;\n",
       "    }\n",
       "</style>\n",
       "<table border=\"1\" class=\"dataframe\">\n",
       "  <thead>\n",
       "    <tr style=\"text-align: right;\">\n",
       "      <th></th>\n",
       "      <th>level_0</th>\n",
       "      <th>Order ID</th>\n",
       "      <th>Product</th>\n",
       "      <th>Quantity Ordered</th>\n",
       "      <th>Price Each</th>\n",
       "      <th>Order Date</th>\n",
       "      <th>Purchase Address</th>\n",
       "      <th>Sales</th>\n",
       "    </tr>\n",
       "  </thead>\n",
       "  <tbody>\n",
       "    <tr>\n",
       "      <th>0</th>\n",
       "      <td>Sales_April_2019.csv</td>\n",
       "      <td>176558</td>\n",
       "      <td>USB-C Charging Cable</td>\n",
       "      <td>2</td>\n",
       "      <td>11.95</td>\n",
       "      <td>04/19/19 08:46</td>\n",
       "      <td>917 1st St, Dallas, TX 75001</td>\n",
       "      <td>23.90</td>\n",
       "    </tr>\n",
       "    <tr>\n",
       "      <th>2</th>\n",
       "      <td>Sales_April_2019.csv</td>\n",
       "      <td>176559</td>\n",
       "      <td>Bose SoundSport Headphones</td>\n",
       "      <td>1</td>\n",
       "      <td>99.99</td>\n",
       "      <td>04/07/19 22:30</td>\n",
       "      <td>682 Chestnut St, Boston, MA 02215</td>\n",
       "      <td>99.99</td>\n",
       "    </tr>\n",
       "    <tr>\n",
       "      <th>3</th>\n",
       "      <td>Sales_April_2019.csv</td>\n",
       "      <td>176560</td>\n",
       "      <td>Google Phone</td>\n",
       "      <td>1</td>\n",
       "      <td>600.00</td>\n",
       "      <td>04/12/19 14:38</td>\n",
       "      <td>669 Spruce St, Los Angeles, CA 90001</td>\n",
       "      <td>600.00</td>\n",
       "    </tr>\n",
       "    <tr>\n",
       "      <th>4</th>\n",
       "      <td>Sales_April_2019.csv</td>\n",
       "      <td>176560</td>\n",
       "      <td>Wired Headphones</td>\n",
       "      <td>1</td>\n",
       "      <td>11.99</td>\n",
       "      <td>04/12/19 14:38</td>\n",
       "      <td>669 Spruce St, Los Angeles, CA 90001</td>\n",
       "      <td>11.99</td>\n",
       "    </tr>\n",
       "    <tr>\n",
       "      <th>5</th>\n",
       "      <td>Sales_April_2019.csv</td>\n",
       "      <td>176561</td>\n",
       "      <td>Wired Headphones</td>\n",
       "      <td>1</td>\n",
       "      <td>11.99</td>\n",
       "      <td>04/30/19 09:27</td>\n",
       "      <td>333 8th St, Los Angeles, CA 90001</td>\n",
       "      <td>11.99</td>\n",
       "    </tr>\n",
       "  </tbody>\n",
       "</table>\n",
       "</div>"
      ],
      "text/plain": [
       "                level_0 Order ID                     Product  \\\n",
       "0  Sales_April_2019.csv   176558        USB-C Charging Cable   \n",
       "2  Sales_April_2019.csv   176559  Bose SoundSport Headphones   \n",
       "3  Sales_April_2019.csv   176560                Google Phone   \n",
       "4  Sales_April_2019.csv   176560            Wired Headphones   \n",
       "5  Sales_April_2019.csv   176561            Wired Headphones   \n",
       "\n",
       "   Quantity Ordered  Price Each      Order Date  \\\n",
       "0                 2       11.95  04/19/19 08:46   \n",
       "2                 1       99.99  04/07/19 22:30   \n",
       "3                 1      600.00  04/12/19 14:38   \n",
       "4                 1       11.99  04/12/19 14:38   \n",
       "5                 1       11.99  04/30/19 09:27   \n",
       "\n",
       "                       Purchase Address   Sales  \n",
       "0          917 1st St, Dallas, TX 75001   23.90  \n",
       "2     682 Chestnut St, Boston, MA 02215   99.99  \n",
       "3  669 Spruce St, Los Angeles, CA 90001  600.00  \n",
       "4  669 Spruce St, Los Angeles, CA 90001   11.99  \n",
       "5     333 8th St, Los Angeles, CA 90001   11.99  "
      ]
     },
     "execution_count": 8,
     "metadata": {},
     "output_type": "execute_result"
    }
   ],
   "source": [
    "all_months.head()"
   ]
  },
  {
   "cell_type": "code",
   "execution_count": 9,
   "metadata": {},
   "outputs": [
    {
     "data": {
      "text/html": [
       "<div>\n",
       "<style scoped>\n",
       "    .dataframe tbody tr th:only-of-type {\n",
       "        vertical-align: middle;\n",
       "    }\n",
       "\n",
       "    .dataframe tbody tr th {\n",
       "        vertical-align: top;\n",
       "    }\n",
       "\n",
       "    .dataframe thead th {\n",
       "        text-align: right;\n",
       "    }\n",
       "</style>\n",
       "<table border=\"1\" class=\"dataframe\">\n",
       "  <thead>\n",
       "    <tr style=\"text-align: right;\">\n",
       "      <th></th>\n",
       "      <th>Order Date</th>\n",
       "      <th>Sales</th>\n",
       "    </tr>\n",
       "  </thead>\n",
       "  <tbody>\n",
       "    <tr>\n",
       "      <th>0</th>\n",
       "      <td>1</td>\n",
       "      <td>1.822257e+06</td>\n",
       "    </tr>\n",
       "    <tr>\n",
       "      <th>1</th>\n",
       "      <td>2</td>\n",
       "      <td>2.202022e+06</td>\n",
       "    </tr>\n",
       "    <tr>\n",
       "      <th>2</th>\n",
       "      <td>3</td>\n",
       "      <td>2.807100e+06</td>\n",
       "    </tr>\n",
       "    <tr>\n",
       "      <th>3</th>\n",
       "      <td>4</td>\n",
       "      <td>3.390670e+06</td>\n",
       "    </tr>\n",
       "    <tr>\n",
       "      <th>4</th>\n",
       "      <td>5</td>\n",
       "      <td>3.152607e+06</td>\n",
       "    </tr>\n",
       "  </tbody>\n",
       "</table>\n",
       "</div>"
      ],
      "text/plain": [
       "   Order Date         Sales\n",
       "0           1  1.822257e+06\n",
       "1           2  2.202022e+06\n",
       "2           3  2.807100e+06\n",
       "3           4  3.390670e+06\n",
       "4           5  3.152607e+06"
      ]
     },
     "execution_count": 9,
     "metadata": {},
     "output_type": "execute_result"
    }
   ],
   "source": [
    "all_months['Order Date'] = pd.to_datetime(all_months['Order Date'])\n",
    "sales = all_months.groupby(all_months['Order Date'].dt.month).agg({'Sales' : np.sum})\n",
    "sales.reset_index(level=0, inplace=True)\n",
    "sales.head()"
   ]
  },
  {
   "cell_type": "code",
   "execution_count": 10,
   "metadata": {},
   "outputs": [
    {
     "data": {
      "image/png": "[encoded data removed]",
      "text/plain": [
       "<Figure size 432x288 with 1 Axes>"
      ]
     },
     "metadata": {
      "needs_background": "light"
     },
     "output_type": "display_data"
    }
   ],
   "source": [
    "plt.figure()\n",
    "plt.bar(sales['Order Date'], sales['Sales'])\n",
    "plt.xticks(sales['Order Date'])\n",
    "plt.ylabel('Sales (USD) - Millions')\n",
    "plt.xlabel('Month in 2019')\n",
    "plt.ticklabel_format(style = 'plain')\n",
    "_ = plt.title(r\"Sales in 2019\", fontsize = 10)"
   ]
  },
  {
   "cell_type": "markdown",
   "metadata": {},
   "source": [
    "### Q2 What city had the highest sales?"
   ]
  },
  {
   "cell_type": "markdown",
   "metadata": {},
   "source": [
    "Ans.  San Francisco, CA, had the highest sales at USD 8.3 M"
   ]
  },
  {
   "cell_type": "code",
   "execution_count": 11,
   "metadata": {},
   "outputs": [
    {
     "data": {
      "text/html": [
       "<div>\n",
       "<style scoped>\n",
       "    .dataframe tbody tr th:only-of-type {\n",
       "        vertical-align: middle;\n",
       "    }\n",
       "\n",
       "    .dataframe tbody tr th {\n",
       "        vertical-align: top;\n",
       "    }\n",
       "\n",
       "    .dataframe thead th {\n",
       "        text-align: right;\n",
       "    }\n",
       "</style>\n",
       "<table border=\"1\" class=\"dataframe\">\n",
       "  <thead>\n",
       "    <tr style=\"text-align: right;\">\n",
       "      <th></th>\n",
       "      <th>level_0</th>\n",
       "      <th>Order ID</th>\n",
       "      <th>Product</th>\n",
       "      <th>Quantity Ordered</th>\n",
       "      <th>Price Each</th>\n",
       "      <th>Order Date</th>\n",
       "      <th>Purchase Address</th>\n",
       "      <th>Sales</th>\n",
       "      <th>City</th>\n",
       "    </tr>\n",
       "  </thead>\n",
       "  <tbody>\n",
       "    <tr>\n",
       "      <th>0</th>\n",
       "      <td>Sales_April_2019.csv</td>\n",
       "      <td>176558</td>\n",
       "      <td>USB-C Charging Cable</td>\n",
       "      <td>2</td>\n",
       "      <td>11.95</td>\n",
       "      <td>2019-04-19 08:46:00</td>\n",
       "      <td>917 1st St, Dallas, TX 75001</td>\n",
       "      <td>23.90</td>\n",
       "      <td>Dallas, TX</td>\n",
       "    </tr>\n",
       "    <tr>\n",
       "      <th>2</th>\n",
       "      <td>Sales_April_2019.csv</td>\n",
       "      <td>176559</td>\n",
       "      <td>Bose SoundSport Headphones</td>\n",
       "      <td>1</td>\n",
       "      <td>99.99</td>\n",
       "      <td>2019-04-07 22:30:00</td>\n",
       "      <td>682 Chestnut St, Boston, MA 02215</td>\n",
       "      <td>99.99</td>\n",
       "      <td>Boston, MA</td>\n",
       "    </tr>\n",
       "    <tr>\n",
       "      <th>3</th>\n",
       "      <td>Sales_April_2019.csv</td>\n",
       "      <td>176560</td>\n",
       "      <td>Google Phone</td>\n",
       "      <td>1</td>\n",
       "      <td>600.00</td>\n",
       "      <td>2019-04-12 14:38:00</td>\n",
       "      <td>669 Spruce St, Los Angeles, CA 90001</td>\n",
       "      <td>600.00</td>\n",
       "      <td>Los Angeles, CA</td>\n",
       "    </tr>\n",
       "    <tr>\n",
       "      <th>4</th>\n",
       "      <td>Sales_April_2019.csv</td>\n",
       "      <td>176560</td>\n",
       "      <td>Wired Headphones</td>\n",
       "      <td>1</td>\n",
       "      <td>11.99</td>\n",
       "      <td>2019-04-12 14:38:00</td>\n",
       "      <td>669 Spruce St, Los Angeles, CA 90001</td>\n",
       "      <td>11.99</td>\n",
       "      <td>Los Angeles, CA</td>\n",
       "    </tr>\n",
       "    <tr>\n",
       "      <th>5</th>\n",
       "      <td>Sales_April_2019.csv</td>\n",
       "      <td>176561</td>\n",
       "      <td>Wired Headphones</td>\n",
       "      <td>1</td>\n",
       "      <td>11.99</td>\n",
       "      <td>2019-04-30 09:27:00</td>\n",
       "      <td>333 8th St, Los Angeles, CA 90001</td>\n",
       "      <td>11.99</td>\n",
       "      <td>Los Angeles, CA</td>\n",
       "    </tr>\n",
       "  </tbody>\n",
       "</table>\n",
       "</div>"
      ],
      "text/plain": [
       "                level_0 Order ID                     Product  \\\n",
       "0  Sales_April_2019.csv   176558        USB-C Charging Cable   \n",
       "2  Sales_April_2019.csv   176559  Bose SoundSport Headphones   \n",
       "3  Sales_April_2019.csv   176560                Google Phone   \n",
       "4  Sales_April_2019.csv   176560            Wired Headphones   \n",
       "5  Sales_April_2019.csv   176561            Wired Headphones   \n",
       "\n",
       "   Quantity Ordered  Price Each          Order Date  \\\n",
       "0                 2       11.95 2019-04-19 08:46:00   \n",
       "2                 1       99.99 2019-04-07 22:30:00   \n",
       "3                 1      600.00 2019-04-12 14:38:00   \n",
       "4                 1       11.99 2019-04-12 14:38:00   \n",
       "5                 1       11.99 2019-04-30 09:27:00   \n",
       "\n",
       "                       Purchase Address   Sales             City  \n",
       "0          917 1st St, Dallas, TX 75001   23.90       Dallas, TX  \n",
       "2     682 Chestnut St, Boston, MA 02215   99.99       Boston, MA  \n",
       "3  669 Spruce St, Los Angeles, CA 90001  600.00  Los Angeles, CA  \n",
       "4  669 Spruce St, Los Angeles, CA 90001   11.99  Los Angeles, CA  \n",
       "5     333 8th St, Los Angeles, CA 90001   11.99  Los Angeles, CA  "
      ]
     },
     "execution_count": 11,
     "metadata": {},
     "output_type": "execute_result"
    }
   ],
   "source": [
    "# Create new column, City after parsing Purchase Address column\n",
    "\n",
    "pattern_city = \"(?:[Ss]+[Tt]+, *)(?P<city>[\\w]+ *[\\w]+)(?P<state>, [\\w]+)\"\n",
    "city_state = all_months['Purchase Address'].str.extract(pattern_city)\n",
    "all_months['City'] = city_state['city'] + city_state['state']\n",
    "all_months.head()"
   ]
  },
  {
   "cell_type": "code",
   "execution_count": 12,
   "metadata": {},
   "outputs": [
    {
     "data": {
      "text/html": [
       "<div>\n",
       "<style scoped>\n",
       "    .dataframe tbody tr th:only-of-type {\n",
       "        vertical-align: middle;\n",
       "    }\n",
       "\n",
       "    .dataframe tbody tr th {\n",
       "        vertical-align: top;\n",
       "    }\n",
       "\n",
       "    .dataframe thead th {\n",
       "        text-align: right;\n",
       "    }\n",
       "</style>\n",
       "<table border=\"1\" class=\"dataframe\">\n",
       "  <thead>\n",
       "    <tr style=\"text-align: right;\">\n",
       "      <th></th>\n",
       "      <th>Sales</th>\n",
       "    </tr>\n",
       "    <tr>\n",
       "      <th>City</th>\n",
       "      <th></th>\n",
       "    </tr>\n",
       "  </thead>\n",
       "  <tbody>\n",
       "    <tr>\n",
       "      <th>San Francisco, CA</th>\n",
       "      <td>8.262204e+06</td>\n",
       "    </tr>\n",
       "    <tr>\n",
       "      <th>Los Angeles, CA</th>\n",
       "      <td>5.452571e+06</td>\n",
       "    </tr>\n",
       "    <tr>\n",
       "      <th>Boston, MA</th>\n",
       "      <td>3.661642e+06</td>\n",
       "    </tr>\n",
       "    <tr>\n",
       "      <th>Atlanta, GA</th>\n",
       "      <td>2.795499e+06</td>\n",
       "    </tr>\n",
       "    <tr>\n",
       "      <th>Dallas, TX</th>\n",
       "      <td>2.767975e+06</td>\n",
       "    </tr>\n",
       "  </tbody>\n",
       "</table>\n",
       "</div>"
      ],
      "text/plain": [
       "                          Sales\n",
       "City                           \n",
       "San Francisco, CA  8.262204e+06\n",
       "Los Angeles, CA    5.452571e+06\n",
       "Boston, MA         3.661642e+06\n",
       "Atlanta, GA        2.795499e+06\n",
       "Dallas, TX         2.767975e+06"
      ]
     },
     "execution_count": 12,
     "metadata": {},
     "output_type": "execute_result"
    }
   ],
   "source": [
    "# Group by City column, aggregate on sales\n",
    "\n",
    "city_sales = all_months.groupby(['City']).agg({'Sales' : np.sum})\n",
    "city_sales.sort_values(by = ['Sales'], ascending = False).head()"
   ]
  },
  {
   "cell_type": "code",
   "execution_count": 13,
   "metadata": {},
   "outputs": [
    {
     "data": {
      "image/png": "[encoded data removed]",
      "text/plain": [
       "<Figure size 432x288 with 1 Axes>"
      ]
     },
     "metadata": {
      "needs_background": "light"
     },
     "output_type": "display_data"
    }
   ],
   "source": [
    "# Plot results\n",
    "city_sales.reset_index(level=0, inplace=True)\n",
    "\n",
    "plt.figure()\n",
    "plt.bar(city_sales['City'], city_sales['Sales'])\n",
    "_ = plt.xticks(city_sales['City'], rotation = 'vertical')\n",
    "plt.ylabel('Sales (USD) - Millions')\n",
    "plt.xlabel('City')\n",
    "plt.ticklabel_format(style = 'plain', axis = 'y')\n",
    "_ = plt.title(r\"Sales in Cities in 2019\", fontsize = 10)"
   ]
  },
  {
   "cell_type": "markdown",
   "metadata": {},
   "source": [
    "### Q3 What time should advertisements be displayed to maximize chances of a customer buying product?"
   ]
  },
  {
   "cell_type": "markdown",
   "metadata": {},
   "source": [
    "Ans.  Max sales occur from 11 am to 7 pm.  Better to display ads sometime before 11 am."
   ]
  },
  {
   "cell_type": "code",
   "execution_count": 14,
   "metadata": {},
   "outputs": [
    {
     "data": {
      "text/html": [
       "<div>\n",
       "<style scoped>\n",
       "    .dataframe tbody tr th:only-of-type {\n",
       "        vertical-align: middle;\n",
       "    }\n",
       "\n",
       "    .dataframe tbody tr th {\n",
       "        vertical-align: top;\n",
       "    }\n",
       "\n",
       "    .dataframe thead th {\n",
       "        text-align: right;\n",
       "    }\n",
       "</style>\n",
       "<table border=\"1\" class=\"dataframe\">\n",
       "  <thead>\n",
       "    <tr style=\"text-align: right;\">\n",
       "      <th></th>\n",
       "      <th>Order Date</th>\n",
       "      <th>Sales</th>\n",
       "    </tr>\n",
       "  </thead>\n",
       "  <tbody>\n",
       "    <tr>\n",
       "      <th>0</th>\n",
       "      <td>0</td>\n",
       "      <td>713721.27</td>\n",
       "    </tr>\n",
       "    <tr>\n",
       "      <th>1</th>\n",
       "      <td>1</td>\n",
       "      <td>460866.88</td>\n",
       "    </tr>\n",
       "    <tr>\n",
       "      <th>2</th>\n",
       "      <td>2</td>\n",
       "      <td>234851.44</td>\n",
       "    </tr>\n",
       "    <tr>\n",
       "      <th>3</th>\n",
       "      <td>3</td>\n",
       "      <td>145757.89</td>\n",
       "    </tr>\n",
       "    <tr>\n",
       "      <th>4</th>\n",
       "      <td>4</td>\n",
       "      <td>162661.01</td>\n",
       "    </tr>\n",
       "  </tbody>\n",
       "</table>\n",
       "</div>"
      ],
      "text/plain": [
       "   Order Date      Sales\n",
       "0           0  713721.27\n",
       "1           1  460866.88\n",
       "2           2  234851.44\n",
       "3           3  145757.89\n",
       "4           4  162661.01"
      ]
     },
     "execution_count": 14,
     "metadata": {},
     "output_type": "execute_result"
    }
   ],
   "source": [
    "# Group by hour to find total sales by the hour over the whole year\n",
    "\n",
    "hourly = all_months.groupby(all_months['Order Date'].dt.hour).agg({'Sales' : np.sum})\n",
    "hourly.reset_index(level = 0, inplace = True)\n",
    "hourly.head()"
   ]
  },
  {
   "cell_type": "code",
   "execution_count": 15,
   "metadata": {},
   "outputs": [
    {
     "data": {
      "image/png": "[encoded data removed]",
      "text/plain": [
       "<Figure size 432x288 with 1 Axes>"
      ]
     },
     "metadata": {
      "needs_background": "light"
     },
     "output_type": "display_data"
    }
   ],
   "source": [
    "plt.figure()\n",
    "plt.plot(hourly['Order Date'], hourly['Sales'])\n",
    "_ = plt.xticks(hourly['Order Date'])\n",
    "plt.ylabel('Sales (USD) - Millions')\n",
    "plt.xlabel('Hour of the Day')\n",
    "plt.ticklabel_format(style = 'plain')\n",
    "_ = plt.title(r\"Sales by Hour of The Day\", fontsize = 10)"
   ]
  },
  {
   "cell_type": "markdown",
   "metadata": {},
   "source": [
    "### Q4 What products were most often sold together?"
   ]
  },
  {
   "cell_type": "markdown",
   "metadata": {},
   "source": [
    "Ans.  iPhone and Lightning Charging Cables were sold together as pairs, the most often."
   ]
  },
  {
   "cell_type": "code",
   "execution_count": 16,
   "metadata": {},
   "outputs": [
    {
     "data": {
      "text/plain": [
       "array(['USB-C Charging Cable', 'Bose SoundSport Headphones',\n",
       "       'Google Phone', 'Wired Headphones', 'Macbook Pro Laptop',\n",
       "       'Lightning Charging Cable', '27in 4K Gaming Monitor',\n",
       "       'AA Batteries (4-pack)', 'Apple Airpods Headphones',\n",
       "       'AAA Batteries (4-pack)', 'iPhone', 'Flatscreen TV',\n",
       "       '27in FHD Monitor', '20in Monitor', 'LG Dryer', 'ThinkPad Laptop',\n",
       "       'Vareebadd Phone', 'LG Washing Machine', '34in Ultrawide Monitor'],\n",
       "      dtype=object)"
      ]
     },
     "execution_count": 16,
     "metadata": {},
     "output_type": "execute_result"
    }
   ],
   "source": [
    "# First get an idea of all the types of products sold \n",
    "\n",
    "all_months['Product'].unique()"
   ]
  },
  {
   "cell_type": "code",
   "execution_count": 17,
   "metadata": {},
   "outputs": [
    {
     "data": {
      "text/html": [
       "<div>\n",
       "<style scoped>\n",
       "    .dataframe tbody tr th:only-of-type {\n",
       "        vertical-align: middle;\n",
       "    }\n",
       "\n",
       "    .dataframe tbody tr th {\n",
       "        vertical-align: top;\n",
       "    }\n",
       "\n",
       "    .dataframe thead th {\n",
       "        text-align: right;\n",
       "    }\n",
       "</style>\n",
       "<table border=\"1\" class=\"dataframe\">\n",
       "  <thead>\n",
       "    <tr style=\"text-align: right;\">\n",
       "      <th></th>\n",
       "      <th>level_0</th>\n",
       "      <th>Order ID</th>\n",
       "      <th>Product</th>\n",
       "      <th>Quantity Ordered</th>\n",
       "      <th>Price Each</th>\n",
       "      <th>Order Date</th>\n",
       "      <th>Purchase Address</th>\n",
       "      <th>Sales</th>\n",
       "      <th>City</th>\n",
       "    </tr>\n",
       "  </thead>\n",
       "  <tbody>\n",
       "    <tr>\n",
       "      <th>41</th>\n",
       "      <td>Sales_January_2019.csv</td>\n",
       "      <td>141275</td>\n",
       "      <td>USB-C Charging Cable</td>\n",
       "      <td>1</td>\n",
       "      <td>11.95</td>\n",
       "      <td>2019-01-07 16:06:00</td>\n",
       "      <td>610 Walnut St, Austin, TX 73301</td>\n",
       "      <td>11.95</td>\n",
       "      <td>Austin, TX</td>\n",
       "    </tr>\n",
       "    <tr>\n",
       "      <th>42</th>\n",
       "      <td>Sales_January_2019.csv</td>\n",
       "      <td>141275</td>\n",
       "      <td>Wired Headphones</td>\n",
       "      <td>1</td>\n",
       "      <td>11.99</td>\n",
       "      <td>2019-01-07 16:06:00</td>\n",
       "      <td>610 Walnut St, Austin, TX 73301</td>\n",
       "      <td>11.99</td>\n",
       "      <td>Austin, TX</td>\n",
       "    </tr>\n",
       "    <tr>\n",
       "      <th>58</th>\n",
       "      <td>Sales_January_2019.csv</td>\n",
       "      <td>141290</td>\n",
       "      <td>AA Batteries (4-pack)</td>\n",
       "      <td>3</td>\n",
       "      <td>3.84</td>\n",
       "      <td>2019-01-02 08:25:00</td>\n",
       "      <td>4 1st St, Los Angeles, CA 90001</td>\n",
       "      <td>11.52</td>\n",
       "      <td>Los Angeles, CA</td>\n",
       "    </tr>\n",
       "    <tr>\n",
       "      <th>57</th>\n",
       "      <td>Sales_January_2019.csv</td>\n",
       "      <td>141290</td>\n",
       "      <td>Apple Airpods Headphones</td>\n",
       "      <td>1</td>\n",
       "      <td>150.00</td>\n",
       "      <td>2019-01-02 08:25:00</td>\n",
       "      <td>4 1st St, Los Angeles, CA 90001</td>\n",
       "      <td>150.00</td>\n",
       "      <td>Los Angeles, CA</td>\n",
       "    </tr>\n",
       "    <tr>\n",
       "      <th>133</th>\n",
       "      <td>Sales_January_2019.csv</td>\n",
       "      <td>141365</td>\n",
       "      <td>Vareebadd Phone</td>\n",
       "      <td>1</td>\n",
       "      <td>400.00</td>\n",
       "      <td>2019-01-10 11:19:00</td>\n",
       "      <td>20 Dogwood St, New York City, NY 10001</td>\n",
       "      <td>400.00</td>\n",
       "      <td>NaN</td>\n",
       "    </tr>\n",
       "  </tbody>\n",
       "</table>\n",
       "</div>"
      ],
      "text/plain": [
       "                    level_0 Order ID                   Product  \\\n",
       "41   Sales_January_2019.csv   141275      USB-C Charging Cable   \n",
       "42   Sales_January_2019.csv   141275          Wired Headphones   \n",
       "58   Sales_January_2019.csv   141290     AA Batteries (4-pack)   \n",
       "57   Sales_January_2019.csv   141290  Apple Airpods Headphones   \n",
       "133  Sales_January_2019.csv   141365           Vareebadd Phone   \n",
       "\n",
       "     Quantity Ordered  Price Each          Order Date  \\\n",
       "41                  1       11.95 2019-01-07 16:06:00   \n",
       "42                  1       11.99 2019-01-07 16:06:00   \n",
       "58                  3        3.84 2019-01-02 08:25:00   \n",
       "57                  1      150.00 2019-01-02 08:25:00   \n",
       "133                 1      400.00 2019-01-10 11:19:00   \n",
       "\n",
       "                           Purchase Address   Sales             City  \n",
       "41          610 Walnut St, Austin, TX 73301   11.95       Austin, TX  \n",
       "42          610 Walnut St, Austin, TX 73301   11.99       Austin, TX  \n",
       "58          4 1st St, Los Angeles, CA 90001   11.52  Los Angeles, CA  \n",
       "57          4 1st St, Los Angeles, CA 90001  150.00  Los Angeles, CA  \n",
       "133  20 Dogwood St, New York City, NY 10001  400.00              NaN  "
      ]
     },
     "execution_count": 17,
     "metadata": {},
     "output_type": "execute_result"
    }
   ],
   "source": [
    "# Find orders with multiple items\n",
    "\n",
    "dupli_order_id = all_months.duplicated(subset = ['Order ID'], keep = False)\n",
    "multi_items = all_months[dupli_order_id].sort_values(by = ['Order ID'])\n",
    "multi_items.head()"
   ]
  },
  {
   "cell_type": "code",
   "execution_count": 18,
   "metadata": {},
   "outputs": [],
   "source": [
    "# List comprehension to create list of lists. Not grouping by ['Order ID', 'Product ID'] because different products for same ID get grouped in different dataframes,\n",
    "#making it more challending to combine them into a single list for same ID. \n",
    "combo_outer =[]\n",
    "\n",
    "combo_outer = [row.values.tolist() for _, row in multi_items.groupby('Order ID')['Product']]\n",
    "    \n",
    "# Remove duplicate products for a given ID\n",
    "main = []\n",
    "\n",
    "for items in combo_outer:\n",
    "    main.append(list(set(items)))"
   ]
  },
  {
   "cell_type": "code",
   "execution_count": 19,
   "metadata": {},
   "outputs": [
    {
     "name": "stdout",
     "output_type": "stream",
     "text": [
      "('iPhone', 'Lightning Charging Cable') 998\n",
      "('Google Phone', 'USB-C Charging Cable') 997\n",
      "('Wired Headphones', 'iPhone') 461\n",
      "('Wired Headphones', 'Google Phone') 421\n",
      "('iPhone', 'Apple Airpods Headphones') 373\n",
      "('Vareebadd Phone', 'USB-C Charging Cable') 368\n",
      "('Google Phone', 'Bose SoundSport Headphones') 228\n",
      "('Wired Headphones', 'USB-C Charging Cable') 203\n",
      "('Wired Headphones', 'Lightning Charging Cable') 128\n",
      "('AA Batteries (4-pack)', 'Lightning Charging Cable') 106\n",
      "('Bose SoundSport Headphones', 'USB-C Charging Cable') 102\n",
      "('Vareebadd Phone', 'Wired Headphones') 101\n",
      "('Wired Headphones', 'Apple Airpods Headphones') 100\n",
      "('Lightning Charging Cable', 'USB-C Charging Cable') 100\n",
      "('AAA Batteries (4-pack)', 'USB-C Charging Cable') 95\n",
      "('AAA Batteries (4-pack)', 'AA Batteries (4-pack)') 87\n",
      "('Wired Headphones', 'AA Batteries (4-pack)') 83\n",
      "('Vareebadd Phone', 'Bose SoundSport Headphones') 82\n",
      "('AAA Batteries (4-pack)', 'Apple Airpods Headphones') 81\n",
      "('AAA Batteries (4-pack)', 'Lightning Charging Cable') 80\n",
      "('AA Batteries (4-pack)', 'USB-C Charging Cable') 75\n",
      "('Wired Headphones', 'Bose SoundSport Headphones') 74\n",
      "('Lightning Charging Cable', 'Bose SoundSport Headphones') 72\n",
      "('AA Batteries (4-pack)', 'Apple Airpods Headphones') 70\n",
      "('Apple Airpods Headphones', 'Lightning Charging Cable') 69\n",
      "('Apple Airpods Headphones', 'USB-C Charging Cable') 63\n",
      "('AAA Batteries (4-pack)', 'Bose SoundSport Headphones') 57\n",
      "('AA Batteries (4-pack)', 'Bose SoundSport Headphones') 55\n",
      "('Apple Airpods Headphones', 'Bose SoundSport Headphones') 50\n",
      "('Wired Headphones', 'Vareebadd Phone') 48\n",
      "('Lightning Charging Cable', 'Apple Airpods Headphones') 47\n",
      "('AAA Batteries (4-pack)', 'Wired Headphones') 45\n",
      "('27in FHD Monitor', 'USB-C Charging Cable') 43\n",
      "('Wired Headphones', 'AAA Batteries (4-pack)') 41\n",
      "('27in FHD Monitor', 'Lightning Charging Cable') 36\n",
      "('Lightning Charging Cable', '27in 4K Gaming Monitor') 34\n",
      "('Lightning Charging Cable', '34in Ultrawide Monitor') 33\n",
      "('AA Batteries (4-pack)', '34in Ultrawide Monitor') 32\n",
      "('AA Batteries (4-pack)', 'iPhone') 32\n",
      "('AAA Batteries (4-pack)', 'iPhone') 31\n",
      "('AAA Batteries (4-pack)', '27in 4K Gaming Monitor') 30\n",
      "('iPhone', 'USB-C Charging Cable') 29\n",
      "('Wired Headphones', '27in 4K Gaming Monitor') 29\n",
      "('Wired Headphones', '34in Ultrawide Monitor') 28\n",
      "('Google Phone', 'Lightning Charging Cable') 27\n",
      "('AAA Batteries (4-pack)', 'ThinkPad Laptop') 27\n",
      "('27in FHD Monitor', 'Bose SoundSport Headphones') 26\n",
      "('AA Batteries (4-pack)', '27in 4K Gaming Monitor') 26\n",
      "('34in Ultrawide Monitor', 'USB-C Charging Cable') 26\n",
      "('Lightning Charging Cable', '20in Monitor') 26\n",
      "('27in FHD Monitor', 'AA Batteries (4-pack)') 26\n",
      "('AAA Batteries (4-pack)', '34in Ultrawide Monitor') 25\n",
      "('27in FHD Monitor', 'Apple Airpods Headphones') 24\n",
      "('AAA Batteries (4-pack)', '27in FHD Monitor') 23\n",
      "('27in 4K Gaming Monitor', 'USB-C Charging Cable') 23\n",
      "('Lightning Charging Cable', 'Flatscreen TV') 22\n",
      "('AAA Batteries (4-pack)', 'Google Phone') 22\n",
      "('Apple Airpods Headphones', '27in 4K Gaming Monitor') 22\n",
      "('Google Phone', 'Apple Airpods Headphones') 21\n",
      "('AAA Batteries (4-pack)', 'Flatscreen TV') 21\n",
      "('Lightning Charging Cable', 'Macbook Pro Laptop') 21\n",
      "('AA Batteries (4-pack)', 'Flatscreen TV') 21\n",
      "('Macbook Pro Laptop', 'USB-C Charging Cable') 21\n",
      "('ThinkPad Laptop', 'USB-C Charging Cable') 20\n",
      "('Wired Headphones', 'Macbook Pro Laptop') 20\n",
      "('27in FHD Monitor', 'AAA Batteries (4-pack)') 20\n",
      "('Wired Headphones', '20in Monitor') 19\n",
      "('Apple Airpods Headphones', 'Macbook Pro Laptop') 19\n",
      "('AAA Batteries (4-pack)', 'Macbook Pro Laptop') 18\n",
      "('AA Batteries (4-pack)', 'Macbook Pro Laptop') 17\n",
      "('AA Batteries (4-pack)', 'ThinkPad Laptop') 17\n",
      "('Google Phone', 'AA Batteries (4-pack)') 17\n",
      "('AA Batteries (4-pack)', '20in Monitor') 16\n",
      "('Bose SoundSport Headphones', '20in Monitor') 15\n",
      "('Wired Headphones', 'ThinkPad Laptop') 14\n",
      "('Apple Airpods Headphones', '34in Ultrawide Monitor') 14\n",
      "('Lightning Charging Cable', 'iPhone') 13\n",
      "('Apple Airpods Headphones', 'Flatscreen TV') 13\n",
      "('Bose SoundSport Headphones', 'Flatscreen TV') 13\n",
      "('ThinkPad Laptop', 'Bose SoundSport Headphones') 13\n",
      "('Apple Airpods Headphones', '20in Monitor') 13\n",
      "('USB-C Charging Cable', '20in Monitor') 13\n",
      "('iPhone', '34in Ultrawide Monitor') 13\n",
      "('20in Monitor', 'USB-C Charging Cable') 12\n",
      "('Vareebadd Phone', 'Apple Airpods Headphones') 12\n",
      "('Vareebadd Phone', 'AA Batteries (4-pack)') 12\n",
      "('Lightning Charging Cable', 'ThinkPad Laptop') 12\n",
      "('Wired Headphones', '27in FHD Monitor') 12\n",
      "('iPhone', 'Bose SoundSport Headphones') 12\n",
      "('Wired Headphones', 'Flatscreen TV') 11\n",
      "('AAA Batteries (4-pack)', '20in Monitor') 11\n",
      "('27in FHD Monitor', 'Wired Headphones') 10\n",
      "('iPhone', 'Flatscreen TV') 10\n",
      "('27in FHD Monitor', '34in Ultrawide Monitor') 10\n",
      "('Bose SoundSport Headphones', '27in 4K Gaming Monitor') 10\n",
      "('iPhone', '27in 4K Gaming Monitor') 9\n",
      "('27in 4K Gaming Monitor', 'Bose SoundSport Headphones') 9\n",
      "('27in FHD Monitor', 'Macbook Pro Laptop') 9\n",
      "('Apple Airpods Headphones', 'ThinkPad Laptop') 9\n",
      "('34in Ultrawide Monitor', 'Bose SoundSport Headphones') 9\n",
      "('USB-C Charging Cable', 'Flatscreen TV') 9\n",
      "('Google Phone', 'iPhone') 8\n",
      "('Flatscreen TV', 'USB-C Charging Cable') 8\n",
      "('34in Ultrawide Monitor', 'Flatscreen TV') 8\n",
      "('27in FHD Monitor', '27in 4K Gaming Monitor') 8\n",
      "('AA Batteries (4-pack)', 'Google Phone') 8\n",
      "('Bose SoundSport Headphones', 'Macbook Pro Laptop') 8\n",
      "('27in 4K Gaming Monitor', 'Macbook Pro Laptop') 8\n",
      "('ThinkPad Laptop', 'Lightning Charging Cable') 8\n",
      "('Bose SoundSport Headphones', '34in Ultrawide Monitor') 8\n",
      "('Macbook Pro Laptop', 'Bose SoundSport Headphones') 7\n",
      "('ThinkPad Laptop', 'Apple Airpods Headphones') 7\n",
      "('Vareebadd Phone', 'iPhone') 7\n",
      "('iPhone', 'ThinkPad Laptop') 7\n",
      "('27in FHD Monitor', 'Google Phone') 7\n",
      "('Google Phone', 'Macbook Pro Laptop') 7\n",
      "('AA Batteries (4-pack)', 'LG Dryer') 6\n",
      "('iPhone', 'Macbook Pro Laptop') 6\n",
      "('Google Phone', '27in 4K Gaming Monitor') 6\n",
      "('Macbook Pro Laptop', '20in Monitor') 6\n",
      "('LG Washing Machine', 'Lightning Charging Cable') 6\n",
      "('ThinkPad Laptop', 'Flatscreen TV') 6\n",
      "('27in FHD Monitor', 'Flatscreen TV') 6\n",
      "('Google Phone', 'ThinkPad Laptop') 6\n",
      "('27in FHD Monitor', 'ThinkPad Laptop') 6\n",
      "('Vareebadd Phone', 'Google Phone') 5\n",
      "('27in FHD Monitor', '20in Monitor') 5\n",
      "('27in 4K Gaming Monitor', 'Flatscreen TV') 5\n",
      "('34in Ultrawide Monitor', '27in 4K Gaming Monitor') 5\n",
      "('ThinkPad Laptop', 'Macbook Pro Laptop') 5\n",
      "('34in Ultrawide Monitor', 'Macbook Pro Laptop') 5\n",
      "('Macbook Pro Laptop', '27in 4K Gaming Monitor') 5\n",
      "('ThinkPad Laptop', '27in 4K Gaming Monitor') 5\n",
      "('Macbook Pro Laptop', 'Flatscreen TV') 5\n",
      "('Vareebadd Phone', 'AAA Batteries (4-pack)') 4\n",
      "('Google Phone', 'Flatscreen TV') 4\n",
      "('Wired Headphones', 'LG Washing Machine') 4\n",
      "('Google Phone', '34in Ultrawide Monitor') 4\n",
      "('AAA Batteries (4-pack)', 'LG Washing Machine') 4\n",
      "('Vareebadd Phone', 'Lightning Charging Cable') 4\n",
      "('Vareebadd Phone', '34in Ultrawide Monitor') 4\n",
      "('Google Phone', '20in Monitor') 4\n",
      "('ThinkPad Laptop', '34in Ultrawide Monitor') 4\n",
      "('27in FHD Monitor', 'LG Dryer') 3\n",
      "('Vareebadd Phone', '27in 4K Gaming Monitor') 3\n",
      "('Vareebadd Phone', 'ThinkPad Laptop') 3\n",
      "('LG Dryer', 'Apple Airpods Headphones') 3\n",
      "('LG Dryer', 'Lightning Charging Cable') 3\n",
      "('iPhone', '20in Monitor') 3\n",
      "('Vareebadd Phone', 'Flatscreen TV') 3\n",
      "('LG Washing Machine', 'Bose SoundSport Headphones') 2\n",
      "('27in 4K Gaming Monitor', '20in Monitor') 2\n",
      "('27in FHD Monitor', 'Vareebadd Phone') 2\n",
      "('LG Dryer', '27in 4K Gaming Monitor') 2\n",
      "('LG Washing Machine', '20in Monitor') 2\n",
      "('27in FHD Monitor', 'iPhone') 2\n",
      "('AAA Batteries (4-pack)', 'Vareebadd Phone') 2\n",
      "('LG Washing Machine', 'iPhone') 2\n",
      "('34in Ultrawide Monitor', '20in Monitor') 2\n",
      "('LG Washing Machine', 'Macbook Pro Laptop') 2\n",
      "('ThinkPad Laptop', '20in Monitor') 2\n",
      "('AAA Batteries (4-pack)', 'LG Dryer') 2\n",
      "('Macbook Pro Laptop', '34in Ultrawide Monitor') 2\n",
      "('LG Dryer', 'Flatscreen TV') 1\n",
      "('LG Washing Machine', 'Google Phone') 1\n",
      "('iPhone', 'Google Phone') 1\n",
      "('iPhone', 'Wired Headphones') 1\n",
      "('Lightning Charging Cable', 'Google Phone') 1\n",
      "('Lightning Charging Cable', 'Wired Headphones') 1\n",
      "('Google Phone', 'Wired Headphones') 1\n",
      "('LG Washing Machine', '27in 4K Gaming Monitor') 1\n",
      "('LG Washing Machine', 'Apple Airpods Headphones') 1\n",
      "('Google Phone', 'LG Dryer') 1\n",
      "('Flatscreen TV', '20in Monitor') 1\n",
      "('LG Dryer', 'USB-C Charging Cable') 1\n",
      "('20in Monitor', 'Flatscreen TV') 1\n",
      "('27in 4K Gaming Monitor', '34in Ultrawide Monitor') 1\n",
      "('LG Washing Machine', '34in Ultrawide Monitor') 1\n",
      "('Wired Headphones', 'LG Dryer') 1\n",
      "('27in FHD Monitor', 'LG Washing Machine') 1\n",
      "('Google Phone', '27in FHD Monitor') 1\n",
      "('Vareebadd Phone', 'LG Dryer') 1\n",
      "('LG Dryer', 'ThinkPad Laptop') 1\n",
      "('AA Batteries (4-pack)', 'LG Washing Machine') 1\n",
      "('34in Ultrawide Monitor', 'Google Phone') 1\n"
     ]
    }
   ],
   "source": [
    "# Count the combinations\n",
    "from itertools import combinations\n",
    "from collections import Counter\n",
    "\n",
    "count = Counter()\n",
    "\n",
    "for row_list in main:\n",
    "    count.update(Counter(combinations(row_list, 2)))\n",
    "\n",
    "for key, value  in count.most_common():\n",
    "    print(key, value)"
   ]
  },
  {
   "cell_type": "markdown",
   "metadata": {},
   "source": [
    "### Q5 What product sold the most, and why?"
   ]
  },
  {
   "cell_type": "markdown",
   "metadata": {},
   "source": [
    "AAA batteries (4-pack) were the most ordered in 2019 at 31,017 units.  This is likely because AAA batteries are depletable products that power multiple consumer electronics within a single household, which would make them a high demand product.  This assumes that these are non-rechargeable.     "
   ]
  },
  {
   "cell_type": "code",
   "execution_count": 20,
   "metadata": {},
   "outputs": [],
   "source": [
    "Total_sales = all_months.pivot_table(index = 'Product', values = 'Quantity Ordered', aggfunc= {'Quantity Ordered' : np.sum}) # Naming the aggfunc to avoid creating a multi-index"
   ]
  },
  {
   "cell_type": "code",
   "execution_count": 21,
   "metadata": {},
   "outputs": [
    {
     "data": {
      "text/html": [
       "<div>\n",
       "<style scoped>\n",
       "    .dataframe tbody tr th:only-of-type {\n",
       "        vertical-align: middle;\n",
       "    }\n",
       "\n",
       "    .dataframe tbody tr th {\n",
       "        vertical-align: top;\n",
       "    }\n",
       "\n",
       "    .dataframe thead th {\n",
       "        text-align: right;\n",
       "    }\n",
       "</style>\n",
       "<table border=\"1\" class=\"dataframe\">\n",
       "  <thead>\n",
       "    <tr style=\"text-align: right;\">\n",
       "      <th></th>\n",
       "      <th>Quantity Ordered</th>\n",
       "    </tr>\n",
       "    <tr>\n",
       "      <th>Product</th>\n",
       "      <th></th>\n",
       "    </tr>\n",
       "  </thead>\n",
       "  <tbody>\n",
       "    <tr>\n",
       "      <th>AAA Batteries (4-pack)</th>\n",
       "      <td>31017</td>\n",
       "    </tr>\n",
       "    <tr>\n",
       "      <th>AA Batteries (4-pack)</th>\n",
       "      <td>27635</td>\n",
       "    </tr>\n",
       "    <tr>\n",
       "      <th>USB-C Charging Cable</th>\n",
       "      <td>23975</td>\n",
       "    </tr>\n",
       "    <tr>\n",
       "      <th>Lightning Charging Cable</th>\n",
       "      <td>23217</td>\n",
       "    </tr>\n",
       "    <tr>\n",
       "      <th>Wired Headphones</th>\n",
       "      <td>20557</td>\n",
       "    </tr>\n",
       "  </tbody>\n",
       "</table>\n",
       "</div>"
      ],
      "text/plain": [
       "                          Quantity Ordered\n",
       "Product                                   \n",
       "AAA Batteries (4-pack)               31017\n",
       "AA Batteries (4-pack)                27635\n",
       "USB-C Charging Cable                 23975\n",
       "Lightning Charging Cable             23217\n",
       "Wired Headphones                     20557"
      ]
     },
     "execution_count": 21,
     "metadata": {},
     "output_type": "execute_result"
    }
   ],
   "source": [
    "Total_sales.sort_values(by = ['Quantity Ordered'], ascending = False).head()"
   ]
  }
 ],
 "metadata": {
  "kernelspec": {
   "display_name": "Python 3",
   "language": "python",
   "name": "python3"
  },
  "language_info": {
   "codemirror_mode": {
    "name": "ipython",
    "version": 3
   },
   "file_extension": ".py",
   "mimetype": "text/x-python",
   "name": "python",
   "nbconvert_exporter": "python",
   "pygments_lexer": "ipython3",
   "version": "3.8.5"
  }
 },
 "nbformat": 4,
 "nbformat_minor": 4
}
